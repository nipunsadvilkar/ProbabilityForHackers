{
 "cells": [
  {
   "cell_type": "markdown",
   "metadata": {},
   "source": [
    "# Solution for experiment of a die exercise"
   ]
  },
  {
   "cell_type": "code",
   "execution_count": 1,
   "metadata": {
    "collapsed": true
   },
   "outputs": [],
   "source": [
    "%matplotlib inline\n",
    "import numpy as np\n",
    "import pandas as pd\n",
    "import matplotlib.pyplot as plt\n",
    "from utils import comp_prob_inference"
   ]
  },
  {
   "cell_type": "code",
   "execution_count": 2,
   "metadata": {
    "collapsed": true
   },
   "outputs": [],
   "source": [
    "finite_prob_space_die = {\"1\":1/6, \"2\":1/6, \"3\":1/6, \"4\":1/6, \"5\":1/6, \"6\":1/6}"
   ]
  },
  {
   "cell_type": "code",
   "execution_count": 3,
   "metadata": {},
   "outputs": [
    {
     "data": {
      "text/plain": [
       "0.9999999999999999"
      ]
     },
     "execution_count": 3,
     "metadata": {},
     "output_type": "execute_result"
    }
   ],
   "source": [
    "sum(finite_prob_space_die.values())"
   ]
  },
  {
   "cell_type": "code",
   "execution_count": 4,
   "metadata": {},
   "outputs": [
    {
     "data": {
      "text/plain": [
       "'5'"
      ]
     },
     "execution_count": 4,
     "metadata": {},
     "output_type": "execute_result"
    }
   ],
   "source": [
    "#throw single die\n",
    "def throw_die():\n",
    "    finite_prob_space_die = {\"1\":1/6, \"2\":1/6, \"3\":1/6, \"4\":1/6, \"5\":1/6, \"6\":1/6}\n",
    "    return comp_prob_inference.sample_from_finite_probability_space(finite_prob_space_die)\n",
    "throw_die()"
   ]
  },
  {
   "cell_type": "code",
   "execution_count": 5,
   "metadata": {},
   "outputs": [
    {
     "data": {
      "text/plain": [
       "['1', '5', '5', '6', '6']"
      ]
     },
     "execution_count": 5,
     "metadata": {},
     "output_type": "execute_result"
    }
   ],
   "source": [
    "from utils.comp_prob_inference import sample_from_finite_probability_space\n",
    "\n",
    "def throw_die_n_times(number_of_throws):\n",
    "    finite_prob_space_die = {\"1\":0.16666666666666666,\n",
    "                        \"2\":0.16666666666666666,\n",
    "                        \"3\":0.16666666666666666,\n",
    "                        \"4\":0.16666666666666666,\n",
    "                        \"5\":0.16666666666666666,\n",
    "                        \"6\":0.16666666666666666}\n",
    "    return [sample_from_finite_probability_space(finite_prob_space_die)\n",
    "            for i in range(number_of_throws)]\n",
    "\n",
    "throw_die_n_times(5)"
   ]
  },
  {
   "cell_type": "code",
   "execution_count": 6,
   "metadata": {},
   "outputs": [
    {
     "data": {
      "image/png": "[encoded data removed]",
      "text/plain": [
       "<matplotlib.figure.Figure at 0x7fcd88235a20>"
      ]
     },
     "metadata": {},
     "output_type": "display_data"
    }
   ],
   "source": [
    "throws = throw_die_n_times(100)\n",
    "comp_prob_inference.plot_discrete_histogram(throws, frequency=True)"
   ]
  },
  {
   "cell_type": "markdown",
   "metadata": {},
   "source": [
    "# for n = 100000"
   ]
  },
  {
   "cell_type": "code",
   "execution_count": 7,
   "metadata": {},
   "outputs": [
    {
     "data": {
      "image/png": "[encoded data removed]",
      "text/plain": [
       "<matplotlib.figure.Figure at 0x7fcd5b730b38>"
      ]
     },
     "metadata": {},
     "output_type": "display_data"
    }
   ],
   "source": [
    "# TODO: make this plot more beautiful(with grids and color) and should be able to show value on hover\n",
    "throws = throw_die_n_times(100000)\n",
    "comp_prob_inference.plot_discrete_histogram(throws, frequency=True)"
   ]
  },
  {
   "cell_type": "code",
   "execution_count": 8,
   "metadata": {},
   "outputs": [],
   "source": [
    "n = 100000\n",
    "sixes_so_far = 0\n",
    "fraction_of_six_occurence = []\n",
    "for i in range(n):\n",
    "    if throw_die() == '6':\n",
    "        sixes_so_far += 1\n",
    "    fraction_of_six_occurence.append(sixes_so_far / (i+1))"
   ]
  },
  {
   "cell_type": "code",
   "execution_count": 9,
   "metadata": {},
   "outputs": [
    {
     "data": {
      "text/plain": [
       "<matplotlib.text.Text at 0x7fcd59416080>"
      ]
     },
     "execution_count": 9,
     "metadata": {},
     "output_type": "execute_result"
    },
    {
     "data": {
      "image/png": "[encoded data removed]",
      "text/plain": [
       "<matplotlib.figure.Figure at 0x7fcd5944f0b8>"
      ]
     },
     "metadata": {},
     "output_type": "display_data"
    }
   ],
   "source": [
    "plt.figure(figsize=(8, 4))\n",
    "plt.plot(range(1, n+1), fraction_of_six_occurence)\n",
    "plt.xlabel('Number of throws')\n",
    "plt.ylabel('Fraction of sixes')"
   ]
  },
  {
   "cell_type": "markdown",
   "metadata": {},
   "source": [
    "## Indeed, we got stable line at the fraction $1/6$, which is probability of each face"
   ]
  }
 ],
 "metadata": {
  "kernelspec": {
   "display_name": "Python 3",
   "language": "python",
   "name": "python3"
  },
  "language_info": {
   "codemirror_mode": {
    "name": "ipython",
    "version": 3
   },
   "file_extension": ".py",
   "mimetype": "text/x-python",
   "name": "python",
   "nbconvert_exporter": "python",
   "pygments_lexer": "ipython3",
   "version": "3.6.2"
  }
 },
 "nbformat": 4,
 "nbformat_minor": 2
}
